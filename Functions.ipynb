{
 "cells": [
  {
   "cell_type": "code",
   "execution_count": 1,
   "metadata": {
    "collapsed": true
   },
   "outputs": [],
   "source": [
    "import pandas as pd\n",
    "df=pd.DataFrame([{'year':'2015-2016','3PA':11.1 ,'3PM': 5.1}])"
   ]
  },
  {
   "cell_type": "code",
   "execution_count": 2,
   "metadata": {
    "collapsed": false
   },
   "outputs": [
    {
     "data": {
      "text/html": [
       "<div>\n",
       "<table border=\"1\" class=\"dataframe\">\n",
       "  <thead>\n",
       "    <tr style=\"text-align: right;\">\n",
       "      <th></th>\n",
       "      <th>3PA</th>\n",
       "      <th>3PM</th>\n",
       "      <th>year</th>\n",
       "    </tr>\n",
       "  </thead>\n",
       "  <tbody>\n",
       "    <tr>\n",
       "      <th>0</th>\n",
       "      <td>11.1</td>\n",
       "      <td>5.1</td>\n",
       "      <td>2015-2016</td>\n",
       "    </tr>\n",
       "  </tbody>\n",
       "</table>\n",
       "</div>"
      ],
      "text/plain": [
       "    3PA  3PM       year\n",
       "0  11.1  5.1  2015-2016"
      ]
     },
     "execution_count": 2,
     "metadata": {},
     "output_type": "execute_result"
    }
   ],
   "source": [
    "df"
   ]
  },
  {
   "cell_type": "code",
   "execution_count": 3,
   "metadata": {
    "collapsed": true
   },
   "outputs": [],
   "source": [
    "df2=pd.DataFrame({'3PA':[8.1,7.8,3.2],\n",
    "                  '3PM':[3.6,3.3,3.5],\n",
    "                  'year':['2014-2015','2013-2014','2012-2013']\n",
    "                 })"
   ]
  },
  {
   "cell_type": "code",
   "execution_count": 4,
   "metadata": {
    "collapsed": false
   },
   "outputs": [
    {
     "data": {
      "text/html": [
       "<div>\n",
       "<table border=\"1\" class=\"dataframe\">\n",
       "  <thead>\n",
       "    <tr style=\"text-align: right;\">\n",
       "      <th></th>\n",
       "      <th>3PA</th>\n",
       "      <th>3PM</th>\n",
       "      <th>year</th>\n",
       "    </tr>\n",
       "  </thead>\n",
       "  <tbody>\n",
       "    <tr>\n",
       "      <th>0</th>\n",
       "      <td>8.1</td>\n",
       "      <td>3.6</td>\n",
       "      <td>2014-2015</td>\n",
       "    </tr>\n",
       "    <tr>\n",
       "      <th>1</th>\n",
       "      <td>7.8</td>\n",
       "      <td>3.3</td>\n",
       "      <td>2013-2014</td>\n",
       "    </tr>\n",
       "    <tr>\n",
       "      <th>2</th>\n",
       "      <td>3.2</td>\n",
       "      <td>3.5</td>\n",
       "      <td>2012-2013</td>\n",
       "    </tr>\n",
       "  </tbody>\n",
       "</table>\n",
       "</div>"
      ],
      "text/plain": [
       "   3PA  3PM       year\n",
       "0  8.1  3.6  2014-2015\n",
       "1  7.8  3.3  2013-2014\n",
       "2  3.2  3.5  2012-2013"
      ]
     },
     "execution_count": 4,
     "metadata": {},
     "output_type": "execute_result"
    }
   ],
   "source": [
    "df2"
   ]
  },
  {
   "cell_type": "code",
   "execution_count": 6,
   "metadata": {
    "collapsed": false
   },
   "outputs": [],
   "source": [
    "df3 = pd.concat([df,df2],ignore_index = True)"
   ]
  },
  {
   "cell_type": "code",
   "execution_count": 7,
   "metadata": {
    "collapsed": false
   },
   "outputs": [
    {
     "data": {
      "text/html": [
       "<div>\n",
       "<table border=\"1\" class=\"dataframe\">\n",
       "  <thead>\n",
       "    <tr style=\"text-align: right;\">\n",
       "      <th></th>\n",
       "      <th>3PA</th>\n",
       "      <th>3PM</th>\n",
       "      <th>year</th>\n",
       "    </tr>\n",
       "  </thead>\n",
       "  <tbody>\n",
       "    <tr>\n",
       "      <th>0</th>\n",
       "      <td>11.1</td>\n",
       "      <td>5.1</td>\n",
       "      <td>2015-2016</td>\n",
       "    </tr>\n",
       "    <tr>\n",
       "      <th>1</th>\n",
       "      <td>8.1</td>\n",
       "      <td>3.6</td>\n",
       "      <td>2014-2015</td>\n",
       "    </tr>\n",
       "    <tr>\n",
       "      <th>2</th>\n",
       "      <td>7.8</td>\n",
       "      <td>3.3</td>\n",
       "      <td>2013-2014</td>\n",
       "    </tr>\n",
       "    <tr>\n",
       "      <th>3</th>\n",
       "      <td>3.2</td>\n",
       "      <td>3.5</td>\n",
       "      <td>2012-2013</td>\n",
       "    </tr>\n",
       "  </tbody>\n",
       "</table>\n",
       "</div>"
      ],
      "text/plain": [
       "    3PA  3PM       year\n",
       "0  11.1  5.1  2015-2016\n",
       "1   8.1  3.6  2014-2015\n",
       "2   7.8  3.3  2013-2014\n",
       "3   3.2  3.5  2012-2013"
      ]
     },
     "execution_count": 7,
     "metadata": {},
     "output_type": "execute_result"
    }
   ],
   "source": [
    "df3"
   ]
  },
  {
   "cell_type": "code",
   "execution_count": 8,
   "metadata": {
    "collapsed": true
   },
   "outputs": [],
   "source": [
    "df3.iloc[3] = [4.7 , 2.2 , '2011-2012']"
   ]
  },
  {
   "cell_type": "code",
   "execution_count": 9,
   "metadata": {
    "collapsed": false
   },
   "outputs": [
    {
     "data": {
      "text/html": [
       "<div>\n",
       "<table border=\"1\" class=\"dataframe\">\n",
       "  <thead>\n",
       "    <tr style=\"text-align: right;\">\n",
       "      <th></th>\n",
       "      <th>3PA</th>\n",
       "      <th>3PM</th>\n",
       "      <th>year</th>\n",
       "    </tr>\n",
       "  </thead>\n",
       "  <tbody>\n",
       "    <tr>\n",
       "      <th>0</th>\n",
       "      <td>11.1</td>\n",
       "      <td>5.1</td>\n",
       "      <td>2015-2016</td>\n",
       "    </tr>\n",
       "    <tr>\n",
       "      <th>1</th>\n",
       "      <td>8.1</td>\n",
       "      <td>3.6</td>\n",
       "      <td>2014-2015</td>\n",
       "    </tr>\n",
       "    <tr>\n",
       "      <th>2</th>\n",
       "      <td>7.8</td>\n",
       "      <td>3.3</td>\n",
       "      <td>2013-2014</td>\n",
       "    </tr>\n",
       "    <tr>\n",
       "      <th>3</th>\n",
       "      <td>4.7</td>\n",
       "      <td>2.2</td>\n",
       "      <td>2011-2012</td>\n",
       "    </tr>\n",
       "  </tbody>\n",
       "</table>\n",
       "</div>"
      ],
      "text/plain": [
       "    3PA  3PM       year\n",
       "0  11.1  5.1  2015-2016\n",
       "1   8.1  3.6  2014-2015\n",
       "2   7.8  3.3  2013-2014\n",
       "3   4.7  2.2  2011-2012"
      ]
     },
     "execution_count": 9,
     "metadata": {},
     "output_type": "execute_result"
    }
   ],
   "source": [
    "df3"
   ]
  },
  {
   "cell_type": "code",
   "execution_count": 12,
   "metadata": {
    "collapsed": false
   },
   "outputs": [],
   "source": [
    "json_data=' {\"3PA\":{\"0\":11.1,\"1\":8.1,\"2\":5.4,\"3\":6.2,\"4\":4.7}}'"
   ]
  },
  {
   "cell_type": "code",
   "execution_count": 13,
   "metadata": {
    "collapsed": true
   },
   "outputs": [],
   "source": [
    "df = pd.read_json(json_data)"
   ]
  },
  {
   "cell_type": "code",
   "execution_count": 14,
   "metadata": {
    "collapsed": false
   },
   "outputs": [
    {
     "data": {
      "text/html": [
       "<div>\n",
       "<table border=\"1\" class=\"dataframe\">\n",
       "  <thead>\n",
       "    <tr style=\"text-align: right;\">\n",
       "      <th></th>\n",
       "      <th>3PA</th>\n",
       "    </tr>\n",
       "  </thead>\n",
       "  <tbody>\n",
       "    <tr>\n",
       "      <th>0</th>\n",
       "      <td>11.1</td>\n",
       "    </tr>\n",
       "    <tr>\n",
       "      <th>1</th>\n",
       "      <td>8.1</td>\n",
       "    </tr>\n",
       "    <tr>\n",
       "      <th>2</th>\n",
       "      <td>5.4</td>\n",
       "    </tr>\n",
       "    <tr>\n",
       "      <th>3</th>\n",
       "      <td>6.2</td>\n",
       "    </tr>\n",
       "    <tr>\n",
       "      <th>4</th>\n",
       "      <td>4.7</td>\n",
       "    </tr>\n",
       "  </tbody>\n",
       "</table>\n",
       "</div>"
      ],
      "text/plain": [
       "    3PA\n",
       "0  11.1\n",
       "1   8.1\n",
       "2   5.4\n",
       "3   6.2\n",
       "4   4.7"
      ]
     },
     "execution_count": 14,
     "metadata": {},
     "output_type": "execute_result"
    }
   ],
   "source": [
    "df"
   ]
  },
  {
   "cell_type": "code",
   "execution_count": 15,
   "metadata": {
    "collapsed": true
   },
   "outputs": [],
   "source": [
    "df['3PM']=[1.2,4.3,11.1,3.7,8.5]"
   ]
  },
  {
   "cell_type": "code",
   "execution_count": 19,
   "metadata": {
    "collapsed": false
   },
   "outputs": [],
   "source": [
    "df['year']=['2016-15','2015-14','2014-13','2013-12','2012-11']"
   ]
  },
  {
   "cell_type": "code",
   "execution_count": 20,
   "metadata": {
    "collapsed": false
   },
   "outputs": [
    {
     "data": {
      "text/html": [
       "<div>\n",
       "<table border=\"1\" class=\"dataframe\">\n",
       "  <thead>\n",
       "    <tr style=\"text-align: right;\">\n",
       "      <th></th>\n",
       "      <th>3PA</th>\n",
       "      <th>3PM</th>\n",
       "      <th>year</th>\n",
       "    </tr>\n",
       "  </thead>\n",
       "  <tbody>\n",
       "    <tr>\n",
       "      <th>0</th>\n",
       "      <td>11.1</td>\n",
       "      <td>1.2</td>\n",
       "      <td>2016-15</td>\n",
       "    </tr>\n",
       "    <tr>\n",
       "      <th>1</th>\n",
       "      <td>8.1</td>\n",
       "      <td>4.3</td>\n",
       "      <td>2015-14</td>\n",
       "    </tr>\n",
       "    <tr>\n",
       "      <th>2</th>\n",
       "      <td>5.4</td>\n",
       "      <td>11.1</td>\n",
       "      <td>2014-13</td>\n",
       "    </tr>\n",
       "    <tr>\n",
       "      <th>3</th>\n",
       "      <td>6.2</td>\n",
       "      <td>3.7</td>\n",
       "      <td>2013-12</td>\n",
       "    </tr>\n",
       "    <tr>\n",
       "      <th>4</th>\n",
       "      <td>4.7</td>\n",
       "      <td>8.5</td>\n",
       "      <td>2012-11</td>\n",
       "    </tr>\n",
       "  </tbody>\n",
       "</table>\n",
       "</div>"
      ],
      "text/plain": [
       "    3PA   3PM     year\n",
       "0  11.1   1.2  2016-15\n",
       "1   8.1   4.3  2015-14\n",
       "2   5.4  11.1  2014-13\n",
       "3   6.2   3.7  2013-12\n",
       "4   4.7   8.5  2012-11"
      ]
     },
     "execution_count": 20,
     "metadata": {},
     "output_type": "execute_result"
    }
   ],
   "source": [
    "df"
   ]
  },
  {
   "cell_type": "code",
   "execution_count": 21,
   "metadata": {
    "collapsed": true
   },
   "outputs": [],
   "source": [
    "df['PTS'] = [12.1,23.1,15.6,25.5,32]"
   ]
  },
  {
   "cell_type": "code",
   "execution_count": 22,
   "metadata": {
    "collapsed": false
   },
   "outputs": [
    {
     "data": {
      "text/html": [
       "<div>\n",
       "<table border=\"1\" class=\"dataframe\">\n",
       "  <thead>\n",
       "    <tr style=\"text-align: right;\">\n",
       "      <th></th>\n",
       "      <th>3PA</th>\n",
       "      <th>3PM</th>\n",
       "      <th>year</th>\n",
       "      <th>PTS</th>\n",
       "    </tr>\n",
       "  </thead>\n",
       "  <tbody>\n",
       "    <tr>\n",
       "      <th>0</th>\n",
       "      <td>11.1</td>\n",
       "      <td>1.2</td>\n",
       "      <td>2016-15</td>\n",
       "      <td>12.1</td>\n",
       "    </tr>\n",
       "    <tr>\n",
       "      <th>1</th>\n",
       "      <td>8.1</td>\n",
       "      <td>4.3</td>\n",
       "      <td>2015-14</td>\n",
       "      <td>23.1</td>\n",
       "    </tr>\n",
       "    <tr>\n",
       "      <th>2</th>\n",
       "      <td>5.4</td>\n",
       "      <td>11.1</td>\n",
       "      <td>2014-13</td>\n",
       "      <td>15.6</td>\n",
       "    </tr>\n",
       "    <tr>\n",
       "      <th>3</th>\n",
       "      <td>6.2</td>\n",
       "      <td>3.7</td>\n",
       "      <td>2013-12</td>\n",
       "      <td>25.5</td>\n",
       "    </tr>\n",
       "    <tr>\n",
       "      <th>4</th>\n",
       "      <td>4.7</td>\n",
       "      <td>8.5</td>\n",
       "      <td>2012-11</td>\n",
       "      <td>32.0</td>\n",
       "    </tr>\n",
       "  </tbody>\n",
       "</table>\n",
       "</div>"
      ],
      "text/plain": [
       "    3PA   3PM     year   PTS\n",
       "0  11.1   1.2  2016-15  12.1\n",
       "1   8.1   4.3  2015-14  23.1\n",
       "2   5.4  11.1  2014-13  15.6\n",
       "3   6.2   3.7  2013-12  25.5\n",
       "4   4.7   8.5  2012-11  32.0"
      ]
     },
     "execution_count": 22,
     "metadata": {},
     "output_type": "execute_result"
    }
   ],
   "source": [
    "df"
   ]
  },
  {
   "cell_type": "code",
   "execution_count": 23,
   "metadata": {
    "collapsed": true
   },
   "outputs": [],
   "source": [
    "df['Team']='Golden state'"
   ]
  },
  {
   "cell_type": "code",
   "execution_count": 24,
   "metadata": {
    "collapsed": false
   },
   "outputs": [
    {
     "data": {
      "text/html": [
       "<div>\n",
       "<table border=\"1\" class=\"dataframe\">\n",
       "  <thead>\n",
       "    <tr style=\"text-align: right;\">\n",
       "      <th></th>\n",
       "      <th>3PA</th>\n",
       "      <th>3PM</th>\n",
       "      <th>year</th>\n",
       "      <th>PTS</th>\n",
       "      <th>Team</th>\n",
       "    </tr>\n",
       "  </thead>\n",
       "  <tbody>\n",
       "    <tr>\n",
       "      <th>0</th>\n",
       "      <td>11.1</td>\n",
       "      <td>1.2</td>\n",
       "      <td>2016-15</td>\n",
       "      <td>12.1</td>\n",
       "      <td>Golden state</td>\n",
       "    </tr>\n",
       "    <tr>\n",
       "      <th>1</th>\n",
       "      <td>8.1</td>\n",
       "      <td>4.3</td>\n",
       "      <td>2015-14</td>\n",
       "      <td>23.1</td>\n",
       "      <td>Golden state</td>\n",
       "    </tr>\n",
       "    <tr>\n",
       "      <th>2</th>\n",
       "      <td>5.4</td>\n",
       "      <td>11.1</td>\n",
       "      <td>2014-13</td>\n",
       "      <td>15.6</td>\n",
       "      <td>Golden state</td>\n",
       "    </tr>\n",
       "    <tr>\n",
       "      <th>3</th>\n",
       "      <td>6.2</td>\n",
       "      <td>3.7</td>\n",
       "      <td>2013-12</td>\n",
       "      <td>25.5</td>\n",
       "      <td>Golden state</td>\n",
       "    </tr>\n",
       "    <tr>\n",
       "      <th>4</th>\n",
       "      <td>4.7</td>\n",
       "      <td>8.5</td>\n",
       "      <td>2012-11</td>\n",
       "      <td>32.0</td>\n",
       "      <td>Golden state</td>\n",
       "    </tr>\n",
       "  </tbody>\n",
       "</table>\n",
       "</div>"
      ],
      "text/plain": [
       "    3PA   3PM     year   PTS          Team\n",
       "0  11.1   1.2  2016-15  12.1  Golden state\n",
       "1   8.1   4.3  2015-14  23.1  Golden state\n",
       "2   5.4  11.1  2014-13  15.6  Golden state\n",
       "3   6.2   3.7  2013-12  25.5  Golden state\n",
       "4   4.7   8.5  2012-11  32.0  Golden state"
      ]
     },
     "execution_count": 24,
     "metadata": {},
     "output_type": "execute_result"
    }
   ],
   "source": [
    "df"
   ]
  },
  {
   "cell_type": "code",
   "execution_count": 25,
   "metadata": {
    "collapsed": true
   },
   "outputs": [],
   "source": [
    "df.loc[:,\"League\"]='NBA'"
   ]
  },
  {
   "cell_type": "code",
   "execution_count": 26,
   "metadata": {
    "collapsed": false
   },
   "outputs": [
    {
     "data": {
      "text/html": [
       "<div>\n",
       "<table border=\"1\" class=\"dataframe\">\n",
       "  <thead>\n",
       "    <tr style=\"text-align: right;\">\n",
       "      <th></th>\n",
       "      <th>3PA</th>\n",
       "      <th>3PM</th>\n",
       "      <th>year</th>\n",
       "      <th>PTS</th>\n",
       "      <th>Team</th>\n",
       "      <th>League</th>\n",
       "    </tr>\n",
       "  </thead>\n",
       "  <tbody>\n",
       "    <tr>\n",
       "      <th>0</th>\n",
       "      <td>11.1</td>\n",
       "      <td>1.2</td>\n",
       "      <td>2016-15</td>\n",
       "      <td>12.1</td>\n",
       "      <td>Golden state</td>\n",
       "      <td>NBA</td>\n",
       "    </tr>\n",
       "    <tr>\n",
       "      <th>1</th>\n",
       "      <td>8.1</td>\n",
       "      <td>4.3</td>\n",
       "      <td>2015-14</td>\n",
       "      <td>23.1</td>\n",
       "      <td>Golden state</td>\n",
       "      <td>NBA</td>\n",
       "    </tr>\n",
       "    <tr>\n",
       "      <th>2</th>\n",
       "      <td>5.4</td>\n",
       "      <td>11.1</td>\n",
       "      <td>2014-13</td>\n",
       "      <td>15.6</td>\n",
       "      <td>Golden state</td>\n",
       "      <td>NBA</td>\n",
       "    </tr>\n",
       "    <tr>\n",
       "      <th>3</th>\n",
       "      <td>6.2</td>\n",
       "      <td>3.7</td>\n",
       "      <td>2013-12</td>\n",
       "      <td>25.5</td>\n",
       "      <td>Golden state</td>\n",
       "      <td>NBA</td>\n",
       "    </tr>\n",
       "    <tr>\n",
       "      <th>4</th>\n",
       "      <td>4.7</td>\n",
       "      <td>8.5</td>\n",
       "      <td>2012-11</td>\n",
       "      <td>32.0</td>\n",
       "      <td>Golden state</td>\n",
       "      <td>NBA</td>\n",
       "    </tr>\n",
       "  </tbody>\n",
       "</table>\n",
       "</div>"
      ],
      "text/plain": [
       "    3PA   3PM     year   PTS          Team League\n",
       "0  11.1   1.2  2016-15  12.1  Golden state    NBA\n",
       "1   8.1   4.3  2015-14  23.1  Golden state    NBA\n",
       "2   5.4  11.1  2014-13  15.6  Golden state    NBA\n",
       "3   6.2   3.7  2013-12  25.5  Golden state    NBA\n",
       "4   4.7   8.5  2012-11  32.0  Golden state    NBA"
      ]
     },
     "execution_count": 26,
     "metadata": {},
     "output_type": "execute_result"
    }
   ],
   "source": [
    "df"
   ]
  },
  {
   "cell_type": "code",
   "execution_count": 30,
   "metadata": {
    "collapsed": false
   },
   "outputs": [
    {
     "data": {
      "text/plain": [
       "0     10.810811\n",
       "1     53.086420\n",
       "2    205.555556\n",
       "3     59.677419\n",
       "4    180.851064\n",
       "dtype: float64"
      ]
     },
     "execution_count": 30,
     "metadata": {},
     "output_type": "execute_result"
    }
   ],
   "source": [
    "(df['3PM']/df['3PA'])*100"
   ]
  },
  {
   "cell_type": "code",
   "execution_count": 32,
   "metadata": {
    "collapsed": false
   },
   "outputs": [],
   "source": [
    "def percent(vals):\n",
    "    made,attempt = vals\n",
    "    return made/attempt * 100\n",
    "    \n"
   ]
  },
  {
   "cell_type": "code",
   "execution_count": 36,
   "metadata": {
    "collapsed": false
   },
   "outputs": [
    {
     "data": {
      "text/plain": [
       "0     10.810811\n",
       "1     53.086420\n",
       "2    205.555556\n",
       "3     59.677419\n",
       "4    180.851064\n",
       "dtype: float64"
      ]
     },
     "execution_count": 36,
     "metadata": {},
     "output_type": "execute_result"
    }
   ],
   "source": [
    "df[['3PM','3PA']].apply(percent,axis=1)"
   ]
  },
  {
   "cell_type": "code",
   "execution_count": 37,
   "metadata": {
    "collapsed": true
   },
   "outputs": [],
   "source": [
    "df['3PP'] = df[['3PM','3PA']].apply(percent,axis=1)"
   ]
  },
  {
   "cell_type": "code",
   "execution_count": 38,
   "metadata": {
    "collapsed": false
   },
   "outputs": [
    {
     "data": {
      "text/html": [
       "<div>\n",
       "<table border=\"1\" class=\"dataframe\">\n",
       "  <thead>\n",
       "    <tr style=\"text-align: right;\">\n",
       "      <th></th>\n",
       "      <th>3PA</th>\n",
       "      <th>3PM</th>\n",
       "      <th>year</th>\n",
       "      <th>PTS</th>\n",
       "      <th>Team</th>\n",
       "      <th>League</th>\n",
       "      <th>3PP</th>\n",
       "    </tr>\n",
       "  </thead>\n",
       "  <tbody>\n",
       "    <tr>\n",
       "      <th>0</th>\n",
       "      <td>11.1</td>\n",
       "      <td>1.2</td>\n",
       "      <td>2016-15</td>\n",
       "      <td>12.1</td>\n",
       "      <td>Golden state</td>\n",
       "      <td>NBA</td>\n",
       "      <td>10.810811</td>\n",
       "    </tr>\n",
       "    <tr>\n",
       "      <th>1</th>\n",
       "      <td>8.1</td>\n",
       "      <td>4.3</td>\n",
       "      <td>2015-14</td>\n",
       "      <td>23.1</td>\n",
       "      <td>Golden state</td>\n",
       "      <td>NBA</td>\n",
       "      <td>53.086420</td>\n",
       "    </tr>\n",
       "    <tr>\n",
       "      <th>2</th>\n",
       "      <td>5.4</td>\n",
       "      <td>11.1</td>\n",
       "      <td>2014-13</td>\n",
       "      <td>15.6</td>\n",
       "      <td>Golden state</td>\n",
       "      <td>NBA</td>\n",
       "      <td>205.555556</td>\n",
       "    </tr>\n",
       "    <tr>\n",
       "      <th>3</th>\n",
       "      <td>6.2</td>\n",
       "      <td>3.7</td>\n",
       "      <td>2013-12</td>\n",
       "      <td>25.5</td>\n",
       "      <td>Golden state</td>\n",
       "      <td>NBA</td>\n",
       "      <td>59.677419</td>\n",
       "    </tr>\n",
       "    <tr>\n",
       "      <th>4</th>\n",
       "      <td>4.7</td>\n",
       "      <td>8.5</td>\n",
       "      <td>2012-11</td>\n",
       "      <td>32.0</td>\n",
       "      <td>Golden state</td>\n",
       "      <td>NBA</td>\n",
       "      <td>180.851064</td>\n",
       "    </tr>\n",
       "  </tbody>\n",
       "</table>\n",
       "</div>"
      ],
      "text/plain": [
       "    3PA   3PM     year   PTS          Team League         3PP\n",
       "0  11.1   1.2  2016-15  12.1  Golden state    NBA   10.810811\n",
       "1   8.1   4.3  2015-14  23.1  Golden state    NBA   53.086420\n",
       "2   5.4  11.1  2014-13  15.6  Golden state    NBA  205.555556\n",
       "3   6.2   3.7  2013-12  25.5  Golden state    NBA   59.677419\n",
       "4   4.7   8.5  2012-11  32.0  Golden state    NBA  180.851064"
      ]
     },
     "execution_count": 38,
     "metadata": {},
     "output_type": "execute_result"
    }
   ],
   "source": [
    "df"
   ]
  },
  {
   "cell_type": "code",
   "execution_count": 39,
   "metadata": {
    "collapsed": false
   },
   "outputs": [
    {
     "data": {
      "text/plain": [
       "0    0.108108\n",
       "1    0.530864\n",
       "2    2.055556\n",
       "3    0.596774\n",
       "4    1.808511\n",
       "Name: 3PP, dtype: float64"
      ]
     },
     "execution_count": 39,
     "metadata": {},
     "output_type": "execute_result"
    }
   ],
   "source": [
    "df['3PP'].apply(lambda x : x/100)"
   ]
  },
  {
   "cell_type": "code",
   "execution_count": 40,
   "metadata": {
    "collapsed": false
   },
   "outputs": [
    {
     "data": {
      "text/plain": [
       "0    Golden state\n",
       "1    Golden state\n",
       "2    Golden state\n",
       "3    Golden state\n",
       "4    Golden state\n",
       "Name: Team, dtype: object"
      ]
     },
     "execution_count": 40,
     "metadata": {},
     "output_type": "execute_result"
    }
   ],
   "source": [
    "df.pop('Team')"
   ]
  },
  {
   "cell_type": "code",
   "execution_count": 41,
   "metadata": {
    "collapsed": false
   },
   "outputs": [
    {
     "data": {
      "text/html": [
       "<div>\n",
       "<table border=\"1\" class=\"dataframe\">\n",
       "  <thead>\n",
       "    <tr style=\"text-align: right;\">\n",
       "      <th></th>\n",
       "      <th>3PA</th>\n",
       "      <th>3PM</th>\n",
       "      <th>year</th>\n",
       "      <th>PTS</th>\n",
       "      <th>League</th>\n",
       "      <th>3PP</th>\n",
       "    </tr>\n",
       "  </thead>\n",
       "  <tbody>\n",
       "    <tr>\n",
       "      <th>0</th>\n",
       "      <td>11.1</td>\n",
       "      <td>1.2</td>\n",
       "      <td>2016-15</td>\n",
       "      <td>12.1</td>\n",
       "      <td>NBA</td>\n",
       "      <td>10.810811</td>\n",
       "    </tr>\n",
       "    <tr>\n",
       "      <th>1</th>\n",
       "      <td>8.1</td>\n",
       "      <td>4.3</td>\n",
       "      <td>2015-14</td>\n",
       "      <td>23.1</td>\n",
       "      <td>NBA</td>\n",
       "      <td>53.086420</td>\n",
       "    </tr>\n",
       "    <tr>\n",
       "      <th>2</th>\n",
       "      <td>5.4</td>\n",
       "      <td>11.1</td>\n",
       "      <td>2014-13</td>\n",
       "      <td>15.6</td>\n",
       "      <td>NBA</td>\n",
       "      <td>205.555556</td>\n",
       "    </tr>\n",
       "    <tr>\n",
       "      <th>3</th>\n",
       "      <td>6.2</td>\n",
       "      <td>3.7</td>\n",
       "      <td>2013-12</td>\n",
       "      <td>25.5</td>\n",
       "      <td>NBA</td>\n",
       "      <td>59.677419</td>\n",
       "    </tr>\n",
       "    <tr>\n",
       "      <th>4</th>\n",
       "      <td>4.7</td>\n",
       "      <td>8.5</td>\n",
       "      <td>2012-11</td>\n",
       "      <td>32.0</td>\n",
       "      <td>NBA</td>\n",
       "      <td>180.851064</td>\n",
       "    </tr>\n",
       "  </tbody>\n",
       "</table>\n",
       "</div>"
      ],
      "text/plain": [
       "    3PA   3PM     year   PTS League         3PP\n",
       "0  11.1   1.2  2016-15  12.1    NBA   10.810811\n",
       "1   8.1   4.3  2015-14  23.1    NBA   53.086420\n",
       "2   5.4  11.1  2014-13  15.6    NBA  205.555556\n",
       "3   6.2   3.7  2013-12  25.5    NBA   59.677419\n",
       "4   4.7   8.5  2012-11  32.0    NBA  180.851064"
      ]
     },
     "execution_count": 41,
     "metadata": {},
     "output_type": "execute_result"
    }
   ],
   "source": [
    "df"
   ]
  },
  {
   "cell_type": "code",
   "execution_count": 42,
   "metadata": {
    "collapsed": false
   },
   "outputs": [
    {
     "data": {
      "text/html": [
       "<div>\n",
       "<table border=\"1\" class=\"dataframe\">\n",
       "  <thead>\n",
       "    <tr style=\"text-align: right;\">\n",
       "      <th></th>\n",
       "      <th>3 Points attempted</th>\n",
       "      <th>3PM</th>\n",
       "      <th>year</th>\n",
       "      <th>PTS</th>\n",
       "      <th>League</th>\n",
       "      <th>3PP</th>\n",
       "    </tr>\n",
       "  </thead>\n",
       "  <tbody>\n",
       "    <tr>\n",
       "      <th>0</th>\n",
       "      <td>11.1</td>\n",
       "      <td>1.2</td>\n",
       "      <td>2016-15</td>\n",
       "      <td>12.1</td>\n",
       "      <td>NBA</td>\n",
       "      <td>10.810811</td>\n",
       "    </tr>\n",
       "    <tr>\n",
       "      <th>1</th>\n",
       "      <td>8.1</td>\n",
       "      <td>4.3</td>\n",
       "      <td>2015-14</td>\n",
       "      <td>23.1</td>\n",
       "      <td>NBA</td>\n",
       "      <td>53.086420</td>\n",
       "    </tr>\n",
       "    <tr>\n",
       "      <th>2</th>\n",
       "      <td>5.4</td>\n",
       "      <td>11.1</td>\n",
       "      <td>2014-13</td>\n",
       "      <td>15.6</td>\n",
       "      <td>NBA</td>\n",
       "      <td>205.555556</td>\n",
       "    </tr>\n",
       "    <tr>\n",
       "      <th>3</th>\n",
       "      <td>6.2</td>\n",
       "      <td>3.7</td>\n",
       "      <td>2013-12</td>\n",
       "      <td>25.5</td>\n",
       "      <td>NBA</td>\n",
       "      <td>59.677419</td>\n",
       "    </tr>\n",
       "    <tr>\n",
       "      <th>4</th>\n",
       "      <td>4.7</td>\n",
       "      <td>8.5</td>\n",
       "      <td>2012-11</td>\n",
       "      <td>32.0</td>\n",
       "      <td>NBA</td>\n",
       "      <td>180.851064</td>\n",
       "    </tr>\n",
       "  </tbody>\n",
       "</table>\n",
       "</div>"
      ],
      "text/plain": [
       "   3 Points attempted   3PM     year   PTS League         3PP\n",
       "0                11.1   1.2  2016-15  12.1    NBA   10.810811\n",
       "1                 8.1   4.3  2015-14  23.1    NBA   53.086420\n",
       "2                 5.4  11.1  2014-13  15.6    NBA  205.555556\n",
       "3                 6.2   3.7  2013-12  25.5    NBA   59.677419\n",
       "4                 4.7   8.5  2012-11  32.0    NBA  180.851064"
      ]
     },
     "execution_count": 42,
     "metadata": {},
     "output_type": "execute_result"
    }
   ],
   "source": [
    "df.rename(columns = {'3PA':'3 Points attempted'})"
   ]
  },
  {
   "cell_type": "code",
   "execution_count": 43,
   "metadata": {
    "collapsed": false
   },
   "outputs": [
    {
     "data": {
      "text/html": [
       "<div>\n",
       "<table border=\"1\" class=\"dataframe\">\n",
       "  <thead>\n",
       "    <tr style=\"text-align: right;\">\n",
       "      <th></th>\n",
       "      <th>3PA</th>\n",
       "      <th>3PM</th>\n",
       "      <th>year</th>\n",
       "      <th>PTS</th>\n",
       "      <th>League</th>\n",
       "      <th>3PP</th>\n",
       "    </tr>\n",
       "  </thead>\n",
       "  <tbody>\n",
       "    <tr>\n",
       "      <th>0</th>\n",
       "      <td>11.1</td>\n",
       "      <td>1.2</td>\n",
       "      <td>2016-15</td>\n",
       "      <td>12.1</td>\n",
       "      <td>NBA</td>\n",
       "      <td>10.810811</td>\n",
       "    </tr>\n",
       "    <tr>\n",
       "      <th>1</th>\n",
       "      <td>8.1</td>\n",
       "      <td>4.3</td>\n",
       "      <td>2015-14</td>\n",
       "      <td>23.1</td>\n",
       "      <td>NBA</td>\n",
       "      <td>53.086420</td>\n",
       "    </tr>\n",
       "    <tr>\n",
       "      <th>2</th>\n",
       "      <td>5.4</td>\n",
       "      <td>11.1</td>\n",
       "      <td>2014-13</td>\n",
       "      <td>15.6</td>\n",
       "      <td>NBA</td>\n",
       "      <td>205.555556</td>\n",
       "    </tr>\n",
       "    <tr>\n",
       "      <th>3</th>\n",
       "      <td>6.2</td>\n",
       "      <td>3.7</td>\n",
       "      <td>2013-12</td>\n",
       "      <td>25.5</td>\n",
       "      <td>NBA</td>\n",
       "      <td>59.677419</td>\n",
       "    </tr>\n",
       "    <tr>\n",
       "      <th>4</th>\n",
       "      <td>4.7</td>\n",
       "      <td>8.5</td>\n",
       "      <td>2012-11</td>\n",
       "      <td>32.0</td>\n",
       "      <td>NBA</td>\n",
       "      <td>180.851064</td>\n",
       "    </tr>\n",
       "    <tr>\n",
       "      <th>5</th>\n",
       "      <td>NaN</td>\n",
       "      <td>NaN</td>\n",
       "      <td>2017-16</td>\n",
       "      <td>NaN</td>\n",
       "      <td>NaN</td>\n",
       "      <td>NaN</td>\n",
       "    </tr>\n",
       "  </tbody>\n",
       "</table>\n",
       "</div>"
      ],
      "text/plain": [
       "    3PA   3PM     year   PTS League         3PP\n",
       "0  11.1   1.2  2016-15  12.1    NBA   10.810811\n",
       "1   8.1   4.3  2015-14  23.1    NBA   53.086420\n",
       "2   5.4  11.1  2014-13  15.6    NBA  205.555556\n",
       "3   6.2   3.7  2013-12  25.5    NBA   59.677419\n",
       "4   4.7   8.5  2012-11  32.0    NBA  180.851064\n",
       "5   NaN   NaN  2017-16   NaN    NaN         NaN"
      ]
     },
     "execution_count": 43,
     "metadata": {},
     "output_type": "execute_result"
    }
   ],
   "source": [
    "df.set_value(5,'year','2017-16')"
   ]
  },
  {
   "cell_type": "code",
   "execution_count": 46,
   "metadata": {
    "collapsed": false
   },
   "outputs": [
    {
     "data": {
      "text/html": [
       "<div>\n",
       "<table border=\"1\" class=\"dataframe\">\n",
       "  <thead>\n",
       "    <tr style=\"text-align: right;\">\n",
       "      <th></th>\n",
       "      <th>3PA</th>\n",
       "      <th>3PM</th>\n",
       "      <th>year</th>\n",
       "      <th>PTS</th>\n",
       "      <th>League</th>\n",
       "      <th>3PP</th>\n",
       "    </tr>\n",
       "  </thead>\n",
       "  <tbody>\n",
       "    <tr>\n",
       "      <th>5</th>\n",
       "      <td>NaN</td>\n",
       "      <td>NaN</td>\n",
       "      <td>2017-16</td>\n",
       "      <td>NaN</td>\n",
       "      <td>NaN</td>\n",
       "      <td>NaN</td>\n",
       "    </tr>\n",
       "    <tr>\n",
       "      <th>0</th>\n",
       "      <td>11.1</td>\n",
       "      <td>1.2</td>\n",
       "      <td>2016-15</td>\n",
       "      <td>12.1</td>\n",
       "      <td>NBA</td>\n",
       "      <td>10.810811</td>\n",
       "    </tr>\n",
       "    <tr>\n",
       "      <th>1</th>\n",
       "      <td>8.1</td>\n",
       "      <td>4.3</td>\n",
       "      <td>2015-14</td>\n",
       "      <td>23.1</td>\n",
       "      <td>NBA</td>\n",
       "      <td>53.086420</td>\n",
       "    </tr>\n",
       "    <tr>\n",
       "      <th>2</th>\n",
       "      <td>5.4</td>\n",
       "      <td>11.1</td>\n",
       "      <td>2014-13</td>\n",
       "      <td>15.6</td>\n",
       "      <td>NBA</td>\n",
       "      <td>205.555556</td>\n",
       "    </tr>\n",
       "    <tr>\n",
       "      <th>3</th>\n",
       "      <td>6.2</td>\n",
       "      <td>3.7</td>\n",
       "      <td>2013-12</td>\n",
       "      <td>25.5</td>\n",
       "      <td>NBA</td>\n",
       "      <td>59.677419</td>\n",
       "    </tr>\n",
       "    <tr>\n",
       "      <th>4</th>\n",
       "      <td>4.7</td>\n",
       "      <td>8.5</td>\n",
       "      <td>2012-11</td>\n",
       "      <td>32.0</td>\n",
       "      <td>NBA</td>\n",
       "      <td>180.851064</td>\n",
       "    </tr>\n",
       "  </tbody>\n",
       "</table>\n",
       "</div>"
      ],
      "text/plain": [
       "    3PA   3PM     year   PTS League         3PP\n",
       "5   NaN   NaN  2017-16   NaN    NaN         NaN\n",
       "0  11.1   1.2  2016-15  12.1    NBA   10.810811\n",
       "1   8.1   4.3  2015-14  23.1    NBA   53.086420\n",
       "2   5.4  11.1  2014-13  15.6    NBA  205.555556\n",
       "3   6.2   3.7  2013-12  25.5    NBA   59.677419\n",
       "4   4.7   8.5  2012-11  32.0    NBA  180.851064"
      ]
     },
     "execution_count": 46,
     "metadata": {},
     "output_type": "execute_result"
    }
   ],
   "source": [
    "df.sort_values('year', ascending=False)"
   ]
  },
  {
   "cell_type": "code",
   "execution_count": 47,
   "metadata": {
    "collapsed": false
   },
   "outputs": [
    {
     "data": {
      "text/html": [
       "<div>\n",
       "<table border=\"1\" class=\"dataframe\">\n",
       "  <thead>\n",
       "    <tr style=\"text-align: right;\">\n",
       "      <th></th>\n",
       "      <th>3PA</th>\n",
       "      <th>3PM</th>\n",
       "      <th>year</th>\n",
       "      <th>PTS</th>\n",
       "      <th>League</th>\n",
       "      <th>3PP</th>\n",
       "    </tr>\n",
       "  </thead>\n",
       "  <tbody>\n",
       "    <tr>\n",
       "      <th>5</th>\n",
       "      <td>NaN</td>\n",
       "      <td>NaN</td>\n",
       "      <td>2017-16</td>\n",
       "      <td>NaN</td>\n",
       "      <td>NaN</td>\n",
       "      <td>NaN</td>\n",
       "    </tr>\n",
       "    <tr>\n",
       "      <th>0</th>\n",
       "      <td>11.1</td>\n",
       "      <td>1.2</td>\n",
       "      <td>2016-15</td>\n",
       "      <td>12.1</td>\n",
       "      <td>NBA</td>\n",
       "      <td>10.810811</td>\n",
       "    </tr>\n",
       "    <tr>\n",
       "      <th>2</th>\n",
       "      <td>5.4</td>\n",
       "      <td>11.1</td>\n",
       "      <td>2014-13</td>\n",
       "      <td>15.6</td>\n",
       "      <td>NBA</td>\n",
       "      <td>205.555556</td>\n",
       "    </tr>\n",
       "    <tr>\n",
       "      <th>1</th>\n",
       "      <td>8.1</td>\n",
       "      <td>4.3</td>\n",
       "      <td>2015-14</td>\n",
       "      <td>23.1</td>\n",
       "      <td>NBA</td>\n",
       "      <td>53.086420</td>\n",
       "    </tr>\n",
       "    <tr>\n",
       "      <th>3</th>\n",
       "      <td>6.2</td>\n",
       "      <td>3.7</td>\n",
       "      <td>2013-12</td>\n",
       "      <td>25.5</td>\n",
       "      <td>NBA</td>\n",
       "      <td>59.677419</td>\n",
       "    </tr>\n",
       "    <tr>\n",
       "      <th>4</th>\n",
       "      <td>4.7</td>\n",
       "      <td>8.5</td>\n",
       "      <td>2012-11</td>\n",
       "      <td>32.0</td>\n",
       "      <td>NBA</td>\n",
       "      <td>180.851064</td>\n",
       "    </tr>\n",
       "  </tbody>\n",
       "</table>\n",
       "</div>"
      ],
      "text/plain": [
       "    3PA   3PM     year   PTS League         3PP\n",
       "5   NaN   NaN  2017-16   NaN    NaN         NaN\n",
       "0  11.1   1.2  2016-15  12.1    NBA   10.810811\n",
       "2   5.4  11.1  2014-13  15.6    NBA  205.555556\n",
       "1   8.1   4.3  2015-14  23.1    NBA   53.086420\n",
       "3   6.2   3.7  2013-12  25.5    NBA   59.677419\n",
       "4   4.7   8.5  2012-11  32.0    NBA  180.851064"
      ]
     },
     "execution_count": 47,
     "metadata": {},
     "output_type": "execute_result"
    }
   ],
   "source": [
    "df.sort_values('PTS', na_position ='first')"
   ]
  },
  {
   "cell_type": "code",
   "execution_count": 54,
   "metadata": {
    "collapsed": false
   },
   "outputs": [],
   "source": [
    "df.sort_values('PTS')\n",
    "df['GP'] = [25, 80, 35, 70, 70 ,None]"
   ]
  },
  {
   "cell_type": "code",
   "execution_count": 55,
   "metadata": {
    "collapsed": false
   },
   "outputs": [
    {
     "data": {
      "text/html": [
       "<div>\n",
       "<table border=\"1\" class=\"dataframe\">\n",
       "  <thead>\n",
       "    <tr style=\"text-align: right;\">\n",
       "      <th></th>\n",
       "      <th>3PA</th>\n",
       "      <th>3PM</th>\n",
       "      <th>year</th>\n",
       "      <th>PTS</th>\n",
       "      <th>League</th>\n",
       "      <th>3PP</th>\n",
       "      <th>GP</th>\n",
       "    </tr>\n",
       "  </thead>\n",
       "  <tbody>\n",
       "    <tr>\n",
       "      <th>0</th>\n",
       "      <td>11.1</td>\n",
       "      <td>1.2</td>\n",
       "      <td>2016-15</td>\n",
       "      <td>12.1</td>\n",
       "      <td>NBA</td>\n",
       "      <td>10.810811</td>\n",
       "      <td>25.0</td>\n",
       "    </tr>\n",
       "    <tr>\n",
       "      <th>1</th>\n",
       "      <td>8.1</td>\n",
       "      <td>4.3</td>\n",
       "      <td>2015-14</td>\n",
       "      <td>23.1</td>\n",
       "      <td>NBA</td>\n",
       "      <td>53.086420</td>\n",
       "      <td>80.0</td>\n",
       "    </tr>\n",
       "    <tr>\n",
       "      <th>2</th>\n",
       "      <td>5.4</td>\n",
       "      <td>11.1</td>\n",
       "      <td>2014-13</td>\n",
       "      <td>15.6</td>\n",
       "      <td>NBA</td>\n",
       "      <td>205.555556</td>\n",
       "      <td>35.0</td>\n",
       "    </tr>\n",
       "    <tr>\n",
       "      <th>3</th>\n",
       "      <td>6.2</td>\n",
       "      <td>3.7</td>\n",
       "      <td>2013-12</td>\n",
       "      <td>25.5</td>\n",
       "      <td>NBA</td>\n",
       "      <td>59.677419</td>\n",
       "      <td>70.0</td>\n",
       "    </tr>\n",
       "    <tr>\n",
       "      <th>4</th>\n",
       "      <td>4.7</td>\n",
       "      <td>8.5</td>\n",
       "      <td>2012-11</td>\n",
       "      <td>32.0</td>\n",
       "      <td>NBA</td>\n",
       "      <td>180.851064</td>\n",
       "      <td>70.0</td>\n",
       "    </tr>\n",
       "    <tr>\n",
       "      <th>5</th>\n",
       "      <td>NaN</td>\n",
       "      <td>NaN</td>\n",
       "      <td>2017-16</td>\n",
       "      <td>NaN</td>\n",
       "      <td>NaN</td>\n",
       "      <td>NaN</td>\n",
       "      <td>NaN</td>\n",
       "    </tr>\n",
       "  </tbody>\n",
       "</table>\n",
       "</div>"
      ],
      "text/plain": [
       "    3PA   3PM     year   PTS League         3PP    GP\n",
       "0  11.1   1.2  2016-15  12.1    NBA   10.810811  25.0\n",
       "1   8.1   4.3  2015-14  23.1    NBA   53.086420  80.0\n",
       "2   5.4  11.1  2014-13  15.6    NBA  205.555556  35.0\n",
       "3   6.2   3.7  2013-12  25.5    NBA   59.677419  70.0\n",
       "4   4.7   8.5  2012-11  32.0    NBA  180.851064  70.0\n",
       "5   NaN   NaN  2017-16   NaN    NaN         NaN   NaN"
      ]
     },
     "execution_count": 55,
     "metadata": {},
     "output_type": "execute_result"
    }
   ],
   "source": [
    "df"
   ]
  },
  {
   "cell_type": "code",
   "execution_count": 57,
   "metadata": {
    "collapsed": false
   },
   "outputs": [
    {
     "data": {
      "text/html": [
       "<div>\n",
       "<table border=\"1\" class=\"dataframe\">\n",
       "  <thead>\n",
       "    <tr style=\"text-align: right;\">\n",
       "      <th></th>\n",
       "      <th>3PA</th>\n",
       "      <th>3PM</th>\n",
       "      <th>year</th>\n",
       "      <th>PTS</th>\n",
       "      <th>League</th>\n",
       "      <th>3PP</th>\n",
       "      <th>GP</th>\n",
       "    </tr>\n",
       "  </thead>\n",
       "  <tbody>\n",
       "    <tr>\n",
       "      <th>0</th>\n",
       "      <td>11.1</td>\n",
       "      <td>1.2</td>\n",
       "      <td>2016-15</td>\n",
       "      <td>12.1</td>\n",
       "      <td>NBA</td>\n",
       "      <td>10.810811</td>\n",
       "      <td>25.0</td>\n",
       "    </tr>\n",
       "    <tr>\n",
       "      <th>2</th>\n",
       "      <td>5.4</td>\n",
       "      <td>11.1</td>\n",
       "      <td>2014-13</td>\n",
       "      <td>15.6</td>\n",
       "      <td>NBA</td>\n",
       "      <td>205.555556</td>\n",
       "      <td>35.0</td>\n",
       "    </tr>\n",
       "    <tr>\n",
       "      <th>4</th>\n",
       "      <td>4.7</td>\n",
       "      <td>8.5</td>\n",
       "      <td>2012-11</td>\n",
       "      <td>32.0</td>\n",
       "      <td>NBA</td>\n",
       "      <td>180.851064</td>\n",
       "      <td>70.0</td>\n",
       "    </tr>\n",
       "    <tr>\n",
       "      <th>3</th>\n",
       "      <td>6.2</td>\n",
       "      <td>3.7</td>\n",
       "      <td>2013-12</td>\n",
       "      <td>25.5</td>\n",
       "      <td>NBA</td>\n",
       "      <td>59.677419</td>\n",
       "      <td>70.0</td>\n",
       "    </tr>\n",
       "    <tr>\n",
       "      <th>1</th>\n",
       "      <td>8.1</td>\n",
       "      <td>4.3</td>\n",
       "      <td>2015-14</td>\n",
       "      <td>23.1</td>\n",
       "      <td>NBA</td>\n",
       "      <td>53.086420</td>\n",
       "      <td>80.0</td>\n",
       "    </tr>\n",
       "    <tr>\n",
       "      <th>5</th>\n",
       "      <td>NaN</td>\n",
       "      <td>NaN</td>\n",
       "      <td>2017-16</td>\n",
       "      <td>NaN</td>\n",
       "      <td>NaN</td>\n",
       "      <td>NaN</td>\n",
       "      <td>NaN</td>\n",
       "    </tr>\n",
       "  </tbody>\n",
       "</table>\n",
       "</div>"
      ],
      "text/plain": [
       "    3PA   3PM     year   PTS League         3PP    GP\n",
       "0  11.1   1.2  2016-15  12.1    NBA   10.810811  25.0\n",
       "2   5.4  11.1  2014-13  15.6    NBA  205.555556  35.0\n",
       "4   4.7   8.5  2012-11  32.0    NBA  180.851064  70.0\n",
       "3   6.2   3.7  2013-12  25.5    NBA   59.677419  70.0\n",
       "1   8.1   4.3  2015-14  23.1    NBA   53.086420  80.0\n",
       "5   NaN   NaN  2017-16   NaN    NaN         NaN   NaN"
      ]
     },
     "execution_count": 57,
     "metadata": {},
     "output_type": "execute_result"
    }
   ],
   "source": [
    "df.sort_values(['GP','PTS'],ascending=[True,False])"
   ]
  },
  {
   "cell_type": "code",
   "execution_count": 59,
   "metadata": {
    "collapsed": false
   },
   "outputs": [
    {
     "data": {
      "text/html": [
       "<div>\n",
       "<table border=\"1\" class=\"dataframe\">\n",
       "  <thead>\n",
       "    <tr style=\"text-align: right;\">\n",
       "      <th></th>\n",
       "      <th>3PA</th>\n",
       "      <th>3PM</th>\n",
       "      <th>year</th>\n",
       "      <th>PTS</th>\n",
       "      <th>League</th>\n",
       "      <th>3PP</th>\n",
       "      <th>GP</th>\n",
       "    </tr>\n",
       "  </thead>\n",
       "  <tbody>\n",
       "    <tr>\n",
       "      <th>5</th>\n",
       "      <td>NaN</td>\n",
       "      <td>NaN</td>\n",
       "      <td>2017-16</td>\n",
       "      <td>NaN</td>\n",
       "      <td>NaN</td>\n",
       "      <td>NaN</td>\n",
       "      <td>NaN</td>\n",
       "    </tr>\n",
       "    <tr>\n",
       "      <th>4</th>\n",
       "      <td>4.7</td>\n",
       "      <td>8.5</td>\n",
       "      <td>2012-11</td>\n",
       "      <td>32.0</td>\n",
       "      <td>NBA</td>\n",
       "      <td>180.851064</td>\n",
       "      <td>70.0</td>\n",
       "    </tr>\n",
       "    <tr>\n",
       "      <th>3</th>\n",
       "      <td>6.2</td>\n",
       "      <td>3.7</td>\n",
       "      <td>2013-12</td>\n",
       "      <td>25.5</td>\n",
       "      <td>NBA</td>\n",
       "      <td>59.677419</td>\n",
       "      <td>70.0</td>\n",
       "    </tr>\n",
       "    <tr>\n",
       "      <th>2</th>\n",
       "      <td>5.4</td>\n",
       "      <td>11.1</td>\n",
       "      <td>2014-13</td>\n",
       "      <td>15.6</td>\n",
       "      <td>NBA</td>\n",
       "      <td>205.555556</td>\n",
       "      <td>35.0</td>\n",
       "    </tr>\n",
       "    <tr>\n",
       "      <th>1</th>\n",
       "      <td>8.1</td>\n",
       "      <td>4.3</td>\n",
       "      <td>2015-14</td>\n",
       "      <td>23.1</td>\n",
       "      <td>NBA</td>\n",
       "      <td>53.086420</td>\n",
       "      <td>80.0</td>\n",
       "    </tr>\n",
       "    <tr>\n",
       "      <th>0</th>\n",
       "      <td>11.1</td>\n",
       "      <td>1.2</td>\n",
       "      <td>2016-15</td>\n",
       "      <td>12.1</td>\n",
       "      <td>NBA</td>\n",
       "      <td>10.810811</td>\n",
       "      <td>25.0</td>\n",
       "    </tr>\n",
       "  </tbody>\n",
       "</table>\n",
       "</div>"
      ],
      "text/plain": [
       "    3PA   3PM     year   PTS League         3PP    GP\n",
       "5   NaN   NaN  2017-16   NaN    NaN         NaN   NaN\n",
       "4   4.7   8.5  2012-11  32.0    NBA  180.851064  70.0\n",
       "3   6.2   3.7  2013-12  25.5    NBA   59.677419  70.0\n",
       "2   5.4  11.1  2014-13  15.6    NBA  205.555556  35.0\n",
       "1   8.1   4.3  2015-14  23.1    NBA   53.086420  80.0\n",
       "0  11.1   1.2  2016-15  12.1    NBA   10.810811  25.0"
      ]
     },
     "execution_count": 59,
     "metadata": {},
     "output_type": "execute_result"
    }
   ],
   "source": [
    "df.sort_index(ascending = False)"
   ]
  },
  {
   "cell_type": "markdown",
   "metadata": {},
   "source": [
    "# Iteration of Dataframes"
   ]
  },
  {
   "cell_type": "code",
   "execution_count": 60,
   "metadata": {
    "collapsed": false
   },
   "outputs": [
    {
     "name": "stdout",
     "output_type": "stream",
     "text": [
      "3PA <class 'str'>\n"
     ]
    }
   ],
   "source": [
    "for thing in df:\n",
    "    print(thing , type(thing))\n",
    "    break\n"
   ]
  },
  {
   "cell_type": "code",
   "execution_count": 61,
   "metadata": {
    "collapsed": false
   },
   "outputs": [
    {
     "name": "stdout",
     "output_type": "stream",
     "text": [
      "3PA\n",
      "3PM\n",
      "year\n",
      "PTS\n",
      "League\n",
      "3PP\n",
      "GP\n"
     ]
    }
   ],
   "source": [
    "for col_name in df:\n",
    "    print(col_name)"
   ]
  },
  {
   "cell_type": "code",
   "execution_count": 63,
   "metadata": {
    "collapsed": false
   },
   "outputs": [
    {
     "data": {
      "text/plain": [
       "['3PA', '3PM', 'year', 'PTS', 'League', '3PP', 'GP']"
      ]
     },
     "execution_count": 63,
     "metadata": {},
     "output_type": "execute_result"
    }
   ],
   "source": [
    "list(df)"
   ]
  },
  {
   "cell_type": "code",
   "execution_count": 65,
   "metadata": {
    "collapsed": false
   },
   "outputs": [
    {
     "name": "stdout",
     "output_type": "stream",
     "text": [
      "('3PA', 0    11.1\n",
      "1     8.1\n",
      "2     5.4\n",
      "3     6.2\n",
      "4     4.7\n",
      "5     NaN\n",
      "Name: 3PA, dtype: float64)\n"
     ]
    }
   ],
   "source": [
    "for thing in df.iteritems():\n",
    "    print(thing)\n",
    "    break"
   ]
  },
  {
   "cell_type": "code",
   "execution_count": 67,
   "metadata": {
    "collapsed": false
   },
   "outputs": [
    {
     "name": "stdout",
     "output_type": "stream",
     "text": [
      "3PA 0    11.1\n",
      "1     8.1\n",
      "2     5.4\n",
      "3     6.2\n",
      "4     4.7\n",
      "5     NaN\n",
      "Name: 3PA, dtype: float64\n"
     ]
    }
   ],
   "source": [
    "for name,col in df.iteritems():\n",
    "    print(name,col)\n",
    "    break"
   ]
  },
  {
   "cell_type": "code",
   "execution_count": 69,
   "metadata": {
    "collapsed": false
   },
   "outputs": [
    {
     "name": "stdout",
     "output_type": "stream",
     "text": [
      "Pandas(Index=0, _1=11.1, _2=1.2, year='2016-15', PTS=12.1, League='NBA', _6=10.810810810810811, GP=25.0)\n"
     ]
    }
   ],
   "source": [
    "for tup in df.itertuples():\n",
    "    print(tup)\n",
    "    break"
   ]
  },
  {
   "cell_type": "code",
   "execution_count": 71,
   "metadata": {
    "collapsed": false
   },
   "outputs": [
    {
     "name": "stdout",
     "output_type": "stream",
     "text": [
      "(0, 3PA          11.1\n",
      "3PM           1.2\n",
      "year      2016-15\n",
      "PTS          12.1\n",
      "League        NBA\n",
      "3PP       10.8108\n",
      "GP             25\n",
      "Name: 0, dtype: object) <class 'tuple'>\n"
     ]
    }
   ],
   "source": [
    "for thing in df.iterrows():\n",
    "    print(thing , type(thing))\n",
    "    break"
   ]
  },
  {
   "cell_type": "code",
   "execution_count": 72,
   "metadata": {
    "collapsed": false
   },
   "outputs": [
    {
     "name": "stdout",
     "output_type": "stream",
     "text": [
      "0 3PA          11.1\n",
      "3PM           1.2\n",
      "year      2016-15\n",
      "PTS          12.1\n",
      "League        NBA\n",
      "3PP       10.8108\n",
      "GP             25\n",
      "Name: 0, dtype: object\n"
     ]
    }
   ],
   "source": [
    "for idx,row in df.iterrows():\n",
    "    print(idx , row)\n",
    "    break"
   ]
  },
  {
   "cell_type": "markdown",
   "metadata": {},
   "source": [
    "# Setting data"
   ]
  },
  {
   "cell_type": "code",
   "execution_count": 73,
   "metadata": {
    "collapsed": true
   },
   "outputs": [],
   "source": [
    "df = df.set_index('year')"
   ]
  },
  {
   "cell_type": "code",
   "execution_count": 74,
   "metadata": {
    "collapsed": false
   },
   "outputs": [
    {
     "data": {
      "text/html": [
       "<div>\n",
       "<table border=\"1\" class=\"dataframe\">\n",
       "  <thead>\n",
       "    <tr style=\"text-align: right;\">\n",
       "      <th></th>\n",
       "      <th>3PA</th>\n",
       "      <th>3PM</th>\n",
       "      <th>PTS</th>\n",
       "      <th>League</th>\n",
       "      <th>3PP</th>\n",
       "      <th>GP</th>\n",
       "    </tr>\n",
       "    <tr>\n",
       "      <th>year</th>\n",
       "      <th></th>\n",
       "      <th></th>\n",
       "      <th></th>\n",
       "      <th></th>\n",
       "      <th></th>\n",
       "      <th></th>\n",
       "    </tr>\n",
       "  </thead>\n",
       "  <tbody>\n",
       "    <tr>\n",
       "      <th>2016-15</th>\n",
       "      <td>11.1</td>\n",
       "      <td>1.2</td>\n",
       "      <td>12.1</td>\n",
       "      <td>NBA</td>\n",
       "      <td>10.810811</td>\n",
       "      <td>25.0</td>\n",
       "    </tr>\n",
       "    <tr>\n",
       "      <th>2015-14</th>\n",
       "      <td>8.1</td>\n",
       "      <td>4.3</td>\n",
       "      <td>23.1</td>\n",
       "      <td>NBA</td>\n",
       "      <td>53.086420</td>\n",
       "      <td>80.0</td>\n",
       "    </tr>\n",
       "    <tr>\n",
       "      <th>2014-13</th>\n",
       "      <td>5.4</td>\n",
       "      <td>11.1</td>\n",
       "      <td>15.6</td>\n",
       "      <td>NBA</td>\n",
       "      <td>205.555556</td>\n",
       "      <td>35.0</td>\n",
       "    </tr>\n",
       "    <tr>\n",
       "      <th>2013-12</th>\n",
       "      <td>6.2</td>\n",
       "      <td>3.7</td>\n",
       "      <td>25.5</td>\n",
       "      <td>NBA</td>\n",
       "      <td>59.677419</td>\n",
       "      <td>70.0</td>\n",
       "    </tr>\n",
       "    <tr>\n",
       "      <th>2012-11</th>\n",
       "      <td>4.7</td>\n",
       "      <td>8.5</td>\n",
       "      <td>32.0</td>\n",
       "      <td>NBA</td>\n",
       "      <td>180.851064</td>\n",
       "      <td>70.0</td>\n",
       "    </tr>\n",
       "    <tr>\n",
       "      <th>2017-16</th>\n",
       "      <td>NaN</td>\n",
       "      <td>NaN</td>\n",
       "      <td>NaN</td>\n",
       "      <td>NaN</td>\n",
       "      <td>NaN</td>\n",
       "      <td>NaN</td>\n",
       "    </tr>\n",
       "  </tbody>\n",
       "</table>\n",
       "</div>"
      ],
      "text/plain": [
       "          3PA   3PM   PTS League         3PP    GP\n",
       "year                                              \n",
       "2016-15  11.1   1.2  12.1    NBA   10.810811  25.0\n",
       "2015-14   8.1   4.3  23.1    NBA   53.086420  80.0\n",
       "2014-13   5.4  11.1  15.6    NBA  205.555556  35.0\n",
       "2013-12   6.2   3.7  25.5    NBA   59.677419  70.0\n",
       "2012-11   4.7   8.5  32.0    NBA  180.851064  70.0\n",
       "2017-16   NaN   NaN   NaN    NaN         NaN   NaN"
      ]
     },
     "execution_count": 74,
     "metadata": {},
     "output_type": "execute_result"
    }
   ],
   "source": [
    "df"
   ]
  },
  {
   "cell_type": "code",
   "execution_count": 75,
   "metadata": {
    "collapsed": false
   },
   "outputs": [
    {
     "data": {
      "text/html": [
       "<div>\n",
       "<table border=\"1\" class=\"dataframe\">\n",
       "  <thead>\n",
       "    <tr style=\"text-align: right;\">\n",
       "      <th></th>\n",
       "      <th>3PA</th>\n",
       "      <th>3PM</th>\n",
       "      <th>PTS</th>\n",
       "      <th>League</th>\n",
       "      <th>3PP</th>\n",
       "      <th>GP</th>\n",
       "      <th>Team</th>\n",
       "    </tr>\n",
       "    <tr>\n",
       "      <th>year</th>\n",
       "      <th></th>\n",
       "      <th></th>\n",
       "      <th></th>\n",
       "      <th></th>\n",
       "      <th></th>\n",
       "      <th></th>\n",
       "      <th></th>\n",
       "    </tr>\n",
       "  </thead>\n",
       "  <tbody>\n",
       "    <tr>\n",
       "      <th>2016-15</th>\n",
       "      <td>11.1</td>\n",
       "      <td>1.2</td>\n",
       "      <td>12.1</td>\n",
       "      <td>NBA</td>\n",
       "      <td>10.810811</td>\n",
       "      <td>25.0</td>\n",
       "      <td>NaN</td>\n",
       "    </tr>\n",
       "    <tr>\n",
       "      <th>2015-14</th>\n",
       "      <td>8.1</td>\n",
       "      <td>4.3</td>\n",
       "      <td>23.1</td>\n",
       "      <td>NBA</td>\n",
       "      <td>53.086420</td>\n",
       "      <td>80.0</td>\n",
       "      <td>NaN</td>\n",
       "    </tr>\n",
       "    <tr>\n",
       "      <th>2014-13</th>\n",
       "      <td>5.4</td>\n",
       "      <td>11.1</td>\n",
       "      <td>15.6</td>\n",
       "      <td>NBA</td>\n",
       "      <td>205.555556</td>\n",
       "      <td>35.0</td>\n",
       "      <td>NaN</td>\n",
       "    </tr>\n",
       "    <tr>\n",
       "      <th>2013-12</th>\n",
       "      <td>6.2</td>\n",
       "      <td>3.7</td>\n",
       "      <td>25.5</td>\n",
       "      <td>NBA</td>\n",
       "      <td>59.677419</td>\n",
       "      <td>70.0</td>\n",
       "      <td>NaN</td>\n",
       "    </tr>\n",
       "    <tr>\n",
       "      <th>2012-11</th>\n",
       "      <td>4.7</td>\n",
       "      <td>8.5</td>\n",
       "      <td>32.0</td>\n",
       "      <td>NBA</td>\n",
       "      <td>180.851064</td>\n",
       "      <td>70.0</td>\n",
       "      <td>NaN</td>\n",
       "    </tr>\n",
       "    <tr>\n",
       "      <th>2017-16</th>\n",
       "      <td>NaN</td>\n",
       "      <td>NaN</td>\n",
       "      <td>NaN</td>\n",
       "      <td>NaN</td>\n",
       "      <td>NaN</td>\n",
       "      <td>NaN</td>\n",
       "      <td>Jazz</td>\n",
       "    </tr>\n",
       "  </tbody>\n",
       "</table>\n",
       "</div>"
      ],
      "text/plain": [
       "          3PA   3PM   PTS League         3PP    GP  Team\n",
       "year                                                    \n",
       "2016-15  11.1   1.2  12.1    NBA   10.810811  25.0   NaN\n",
       "2015-14   8.1   4.3  23.1    NBA   53.086420  80.0   NaN\n",
       "2014-13   5.4  11.1  15.6    NBA  205.555556  35.0   NaN\n",
       "2013-12   6.2   3.7  25.5    NBA   59.677419  70.0   NaN\n",
       "2012-11   4.7   8.5  32.0    NBA  180.851064  70.0   NaN\n",
       "2017-16   NaN   NaN   NaN    NaN         NaN   NaN  Jazz"
      ]
     },
     "execution_count": 75,
     "metadata": {},
     "output_type": "execute_result"
    }
   ],
   "source": [
    "df.set_value('2017-16','Team','Jazz')"
   ]
  },
  {
   "cell_type": "code",
   "execution_count": 83,
   "metadata": {
    "collapsed": false
   },
   "outputs": [],
   "source": [
    "df.iloc[5,3]='NBA'"
   ]
  },
  {
   "cell_type": "code",
   "execution_count": 84,
   "metadata": {
    "collapsed": false
   },
   "outputs": [
    {
     "data": {
      "text/html": [
       "<div>\n",
       "<table border=\"1\" class=\"dataframe\">\n",
       "  <thead>\n",
       "    <tr style=\"text-align: right;\">\n",
       "      <th></th>\n",
       "      <th>3PA</th>\n",
       "      <th>3PM</th>\n",
       "      <th>PTS</th>\n",
       "      <th>League</th>\n",
       "      <th>3PP</th>\n",
       "      <th>GP</th>\n",
       "      <th>Team</th>\n",
       "    </tr>\n",
       "    <tr>\n",
       "      <th>year</th>\n",
       "      <th></th>\n",
       "      <th></th>\n",
       "      <th></th>\n",
       "      <th></th>\n",
       "      <th></th>\n",
       "      <th></th>\n",
       "      <th></th>\n",
       "    </tr>\n",
       "  </thead>\n",
       "  <tbody>\n",
       "    <tr>\n",
       "      <th>2016-15</th>\n",
       "      <td>11.1</td>\n",
       "      <td>1.2</td>\n",
       "      <td>12.1</td>\n",
       "      <td>NBA</td>\n",
       "      <td>10.810811</td>\n",
       "      <td>25.0</td>\n",
       "      <td>NaN</td>\n",
       "    </tr>\n",
       "    <tr>\n",
       "      <th>2015-14</th>\n",
       "      <td>8.1</td>\n",
       "      <td>4.3</td>\n",
       "      <td>23.1</td>\n",
       "      <td>NBA</td>\n",
       "      <td>53.086420</td>\n",
       "      <td>80.0</td>\n",
       "      <td>NaN</td>\n",
       "    </tr>\n",
       "    <tr>\n",
       "      <th>2014-13</th>\n",
       "      <td>5.4</td>\n",
       "      <td>11.1</td>\n",
       "      <td>15.6</td>\n",
       "      <td>NBA</td>\n",
       "      <td>205.555556</td>\n",
       "      <td>35.0</td>\n",
       "      <td>NaN</td>\n",
       "    </tr>\n",
       "    <tr>\n",
       "      <th>2013-12</th>\n",
       "      <td>6.2</td>\n",
       "      <td>3.7</td>\n",
       "      <td>25.5</td>\n",
       "      <td>NBA</td>\n",
       "      <td>59.677419</td>\n",
       "      <td>70.0</td>\n",
       "      <td>NaN</td>\n",
       "    </tr>\n",
       "    <tr>\n",
       "      <th>2012-11</th>\n",
       "      <td>4.7</td>\n",
       "      <td>8.5</td>\n",
       "      <td>32.0</td>\n",
       "      <td>NBA</td>\n",
       "      <td>180.851064</td>\n",
       "      <td>70.0</td>\n",
       "      <td>NaN</td>\n",
       "    </tr>\n",
       "    <tr>\n",
       "      <th>2017-16</th>\n",
       "      <td>NaN</td>\n",
       "      <td>NaN</td>\n",
       "      <td>NaN</td>\n",
       "      <td>NBA</td>\n",
       "      <td>0.000000</td>\n",
       "      <td>NaN</td>\n",
       "      <td>Jazz</td>\n",
       "    </tr>\n",
       "  </tbody>\n",
       "</table>\n",
       "</div>"
      ],
      "text/plain": [
       "          3PA   3PM   PTS League         3PP    GP  Team\n",
       "year                                                    \n",
       "2016-15  11.1   1.2  12.1    NBA   10.810811  25.0   NaN\n",
       "2015-14   8.1   4.3  23.1    NBA   53.086420  80.0   NaN\n",
       "2014-13   5.4  11.1  15.6    NBA  205.555556  35.0   NaN\n",
       "2013-12   6.2   3.7  25.5    NBA   59.677419  70.0   NaN\n",
       "2012-11   4.7   8.5  32.0    NBA  180.851064  70.0   NaN\n",
       "2017-16   NaN   NaN   NaN    NBA    0.000000   NaN  Jazz"
      ]
     },
     "execution_count": 84,
     "metadata": {},
     "output_type": "execute_result"
    }
   ],
   "source": [
    "df\n"
   ]
  },
  {
   "cell_type": "code",
   "execution_count": null,
   "metadata": {
    "collapsed": true
   },
   "outputs": [],
   "source": []
  }
 ],
 "metadata": {
  "anaconda-cloud": {},
  "kernelspec": {
   "display_name": "Python [Root]",
   "language": "python",
   "name": "Python [Root]"
  },
  "language_info": {
   "codemirror_mode": {
    "name": "ipython",
    "version": 3
   },
   "file_extension": ".py",
   "mimetype": "text/x-python",
   "name": "python",
   "nbconvert_exporter": "python",
   "pygments_lexer": "ipython3",
   "version": "3.5.2"
  }
 },
 "nbformat": 4,
 "nbformat_minor": 0
}
